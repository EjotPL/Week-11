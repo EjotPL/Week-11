{
 "cells": [
  {
   "cell_type": "code",
   "execution_count": null,
   "id": "36e1b365",
   "metadata": {
    "scrolled": true
   },
   "outputs": [],
   "source": [
    "# Code for collecting customer data using pandas\n",
    "master_data = pd.read_csv('master_data.csv')  # Assuming you have a CSV file named 'customer_data.csv'\n",
    "    \n",
    "# Example code for dumping customer data to a master file or data lake\n",
    "master_data.to_csv('master_file.csv', index=False)  # Dumping the customer data to a CSV file named 'master_file.csv'"
   ]
  },
  {
   "cell_type": "code",
   "execution_count": null,
   "id": "0816e5d4",
   "metadata": {},
   "outputs": [],
   "source": [
    "# Define the time at which the batch should run\n",
    "batch_time = \"08:00\"  \n",
    "\n",
    "# Schedule the batch process\n",
    "schedule.every().day.at(batch_time).do(data_dump)\n",
    "\n",
    "# Run the scheduler\n",
    "while True:\n",
    "    schedule.run_pending()\n",
    "    time.sleep(1)"
   ]
  }
 ],
 "metadata": {
  "kernelspec": {
   "display_name": "Python 3 (ipykernel)",
   "language": "python",
   "name": "python3"
  },
  "language_info": {
   "codemirror_mode": {
    "name": "ipython",
    "version": 3
   },
   "file_extension": ".py",
   "mimetype": "text/x-python",
   "name": "python",
   "nbconvert_exporter": "python",
   "pygments_lexer": "ipython3",
   "version": "3.9.13"
  }
 },
 "nbformat": 4,
 "nbformat_minor": 5
}
